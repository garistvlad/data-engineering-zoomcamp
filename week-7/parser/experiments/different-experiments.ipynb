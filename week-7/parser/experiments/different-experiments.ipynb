{
 "cells": [
  {
   "cell_type": "markdown",
   "id": "0f73cd20",
   "metadata": {},
   "source": [
    "# Parse Data from WEB"
   ]
  },
  {
   "cell_type": "code",
   "execution_count": 1,
   "id": "879ea159",
   "metadata": {
    "scrolled": true
   },
   "outputs": [],
   "source": [
    "from dataclasses import dataclass\n",
    "from pathlib import Path\n",
    "import sys\n",
    "import json\n",
    "from typing import List, Dict, Optional, Union\n",
    "\n",
    "import httpx\n",
    "import marshmallow_dataclass\n",
    "from marshmallow import Schema\n",
    "import pandas as pd"
   ]
  },
  {
   "cell_type": "code",
   "execution_count": 2,
   "id": "cbb0093f",
   "metadata": {},
   "outputs": [],
   "source": [
    "sys.path.append(\"../\")"
   ]
  },
  {
   "cell_type": "code",
   "execution_count": 3,
   "id": "6128e393",
   "metadata": {},
   "outputs": [],
   "source": [
    "from schemas.advertising import AdvertisingSchema\n",
    "from schemas.rubric import RubricFeatureSchema, RubricSchema\n",
    "from schemas.user import UserSchema\n",
    "from schemas.image import ImageSchema"
   ]
  },
  {
   "cell_type": "markdown",
   "id": "fc8cc65e",
   "metadata": {},
   "source": [
    "## Rubrics"
   ]
  },
  {
   "cell_type": "code",
   "execution_count": 5,
   "id": "9884d274",
   "metadata": {},
   "outputs": [],
   "source": [
    "def load_json_from_web(url: str) -> Union[Dict, List]:\n",
    "    \"\"\"Load JSON from URL\"\"\"\n",
    "    resp = httpx.get(url)\n",
    "    resp.raise_for_status()\n",
    "    data = resp.json()\n",
    "    if type(data) == dict and \"results\" in data:\n",
    "        data = data[\"results\"]\n",
    "    return data"
   ]
  },
  {
   "cell_type": "code",
   "execution_count": 6,
   "id": "f81fbee8",
   "metadata": {},
   "outputs": [],
   "source": [
    "def deserialize_json(data: Union[Dict, List], schema: Schema) -> List[Schema]:\n",
    "    if type(data) == list:\n",
    "        return [schema.load(i) for i in data]\n",
    "    return [schema.load(data)]"
   ]
  },
  {
   "cell_type": "code",
   "execution_count": 7,
   "id": "da225b84",
   "metadata": {},
   "outputs": [],
   "source": [
    "def to_pandas(items: List[Schema]) -> pd.DataFrame:\n",
    "    df = pd.DataFrame(items)\n",
    "    return df"
   ]
  },
  {
   "cell_type": "markdown",
   "id": "62408e82",
   "metadata": {},
   "source": [
    "<hr>"
   ]
  },
  {
   "cell_type": "code",
   "execution_count": null,
   "id": "ad85abe4",
   "metadata": {},
   "outputs": [],
   "source": [
    "URLS = [\n",
    "    \"https://www.bazaraki.com/api/items/rubrics/\",\n",
    "    \"https://www.bazaraki.com/api/items/rubrics/19/\",\n",
    "    \"https://www.bazaraki.com/api/items/rubrics/3527/\",\n",
    "]\n",
    "\n",
    "df_rubrics = pd.DataFrame()\n",
    "for url in URLS:\n",
    "    # ETL pipeline:\n",
    "    data = load_json_from_web(url=url)\n",
    "    items = deserialize_json(data, schema=RubricSchema)\n",
    "    df = to_pandas(items)\n",
    "    \n",
    "    # combine rubrics\n",
    "    df_rubrics = pd.concat((df_rubrics, df), axis=0, ignore_index=True)\n"
   ]
  },
  {
   "cell_type": "code",
   "execution_count": null,
   "id": "a025862b",
   "metadata": {},
   "outputs": [],
   "source": [
    "data = load_json_from_web(url=\"https://www.bazaraki.com/api/items/all_cities_districts/\")"
   ]
  },
  {
   "cell_type": "markdown",
   "id": "a2b112cb",
   "metadata": {},
   "source": [
    "- Parse rubric features"
   ]
  },
  {
   "cell_type": "code",
   "execution_count": 7,
   "id": "b46772f2",
   "metadata": {},
   "outputs": [],
   "source": [
    "df_rubrics = pd.read_parquet(\"../../airflow/data/raw/rubrics.parquet\", engine=\"pyarrow\")"
   ]
  },
  {
   "cell_type": "code",
   "execution_count": 8,
   "id": "667e632b",
   "metadata": {},
   "outputs": [],
   "source": [
    "# parent_ids: 19 and 3527\n",
    "df_realty_rubrics = df_rubrics[\n",
    "    df_rubrics.parent_id.isin([19, 3527])\n",
    "][[\"id\", \"name\", \"slug\", \"path\", \"rubric_features\"]]"
   ]
  },
  {
   "cell_type": "code",
   "execution_count": 39,
   "id": "bc6928f8",
   "metadata": {},
   "outputs": [],
   "source": [
    "df_realty_rubrics.drop(\"rubric_features\", axis=1, inplace=True)"
   ]
  },
  {
   "cell_type": "code",
   "execution_count": 22,
   "id": "4c4814a2",
   "metadata": {},
   "outputs": [
    {
     "data": {
      "text/html": [
       "<div>\n",
       "<style scoped>\n",
       "    .dataframe tbody tr th:only-of-type {\n",
       "        vertical-align: middle;\n",
       "    }\n",
       "\n",
       "    .dataframe tbody tr th {\n",
       "        vertical-align: top;\n",
       "    }\n",
       "\n",
       "    .dataframe thead th {\n",
       "        text-align: right;\n",
       "    }\n",
       "</style>\n",
       "<table border=\"1\" class=\"dataframe\">\n",
       "  <thead>\n",
       "    <tr style=\"text-align: right;\">\n",
       "      <th></th>\n",
       "      <th>id</th>\n",
       "      <th>name</th>\n",
       "      <th>slug</th>\n",
       "      <th>path</th>\n",
       "    </tr>\n",
       "  </thead>\n",
       "  <tbody>\n",
       "    <tr>\n",
       "      <th>15</th>\n",
       "      <td>678</td>\n",
       "      <td>Houses</td>\n",
       "      <td>houses</td>\n",
       "      <td>real-estate-for-sale/houses</td>\n",
       "    </tr>\n",
       "    <tr>\n",
       "      <th>16</th>\n",
       "      <td>3528</td>\n",
       "      <td>Apartments, flats</td>\n",
       "      <td>apartments-flats</td>\n",
       "      <td>real-estate-for-sale/apartments-flats</td>\n",
       "    </tr>\n",
       "    <tr>\n",
       "      <th>17</th>\n",
       "      <td>2405</td>\n",
       "      <td>Commercial property</td>\n",
       "      <td>commercial-property</td>\n",
       "      <td>real-estate-for-sale/commercial-property</td>\n",
       "    </tr>\n",
       "    <tr>\n",
       "      <th>18</th>\n",
       "      <td>141</td>\n",
       "      <td>Plots of land</td>\n",
       "      <td>plots-of-land</td>\n",
       "      <td>real-estate-for-sale/plots-of-land</td>\n",
       "    </tr>\n",
       "    <tr>\n",
       "      <th>19</th>\n",
       "      <td>2790</td>\n",
       "      <td>Residential buildings</td>\n",
       "      <td>buildings</td>\n",
       "      <td>real-estate-for-sale/buildings</td>\n",
       "    </tr>\n",
       "    <tr>\n",
       "      <th>20</th>\n",
       "      <td>3303</td>\n",
       "      <td>Prefabricated houses</td>\n",
       "      <td>prefabricated-houses</td>\n",
       "      <td>real-estate-for-sale/prefabricated-houses</td>\n",
       "    </tr>\n",
       "    <tr>\n",
       "      <th>21</th>\n",
       "      <td>142</td>\n",
       "      <td>Other</td>\n",
       "      <td>other</td>\n",
       "      <td>real-estate-for-sale/other</td>\n",
       "    </tr>\n",
       "    <tr>\n",
       "      <th>22</th>\n",
       "      <td>681</td>\n",
       "      <td>Houses</td>\n",
       "      <td>houses</td>\n",
       "      <td>real-estate-to-rent/houses</td>\n",
       "    </tr>\n",
       "    <tr>\n",
       "      <th>23</th>\n",
       "      <td>3529</td>\n",
       "      <td>Apartments, flats</td>\n",
       "      <td>apartments-flats</td>\n",
       "      <td>real-estate-to-rent/apartments-flats</td>\n",
       "    </tr>\n",
       "    <tr>\n",
       "      <th>24</th>\n",
       "      <td>2408</td>\n",
       "      <td>Commercial property</td>\n",
       "      <td>commercial-property</td>\n",
       "      <td>real-estate-to-rent/commercial-property</td>\n",
       "    </tr>\n",
       "    <tr>\n",
       "      <th>25</th>\n",
       "      <td>3530</td>\n",
       "      <td>Plots of land</td>\n",
       "      <td>plots-of-land</td>\n",
       "      <td>real-estate-to-rent/plots-of-land</td>\n",
       "    </tr>\n",
       "    <tr>\n",
       "      <th>26</th>\n",
       "      <td>2191</td>\n",
       "      <td>Rooms, flatmates</td>\n",
       "      <td>rooms-flatmates</td>\n",
       "      <td>real-estate-to-rent/rooms-flatmates</td>\n",
       "    </tr>\n",
       "    <tr>\n",
       "      <th>27</th>\n",
       "      <td>434</td>\n",
       "      <td>Short term</td>\n",
       "      <td>short-term</td>\n",
       "      <td>real-estate-to-rent/short-term</td>\n",
       "    </tr>\n",
       "    <tr>\n",
       "      <th>28</th>\n",
       "      <td>3531</td>\n",
       "      <td>Other</td>\n",
       "      <td>other</td>\n",
       "      <td>real-estate-to-rent/other</td>\n",
       "    </tr>\n",
       "  </tbody>\n",
       "</table>\n",
       "</div>"
      ],
      "text/plain": [
       "      id                   name                  slug  \\\n",
       "15   678                 Houses                houses   \n",
       "16  3528      Apartments, flats      apartments-flats   \n",
       "17  2405    Commercial property   commercial-property   \n",
       "18   141          Plots of land         plots-of-land   \n",
       "19  2790  Residential buildings             buildings   \n",
       "20  3303   Prefabricated houses  prefabricated-houses   \n",
       "21   142                  Other                 other   \n",
       "22   681                 Houses                houses   \n",
       "23  3529      Apartments, flats      apartments-flats   \n",
       "24  2408    Commercial property   commercial-property   \n",
       "25  3530          Plots of land         plots-of-land   \n",
       "26  2191       Rooms, flatmates       rooms-flatmates   \n",
       "27   434             Short term            short-term   \n",
       "28  3531                  Other                 other   \n",
       "\n",
       "                                         path  \n",
       "15                real-estate-for-sale/houses  \n",
       "16      real-estate-for-sale/apartments-flats  \n",
       "17   real-estate-for-sale/commercial-property  \n",
       "18         real-estate-for-sale/plots-of-land  \n",
       "19             real-estate-for-sale/buildings  \n",
       "20  real-estate-for-sale/prefabricated-houses  \n",
       "21                 real-estate-for-sale/other  \n",
       "22                 real-estate-to-rent/houses  \n",
       "23       real-estate-to-rent/apartments-flats  \n",
       "24    real-estate-to-rent/commercial-property  \n",
       "25          real-estate-to-rent/plots-of-land  \n",
       "26        real-estate-to-rent/rooms-flatmates  \n",
       "27             real-estate-to-rent/short-term  \n",
       "28                  real-estate-to-rent/other  "
      ]
     },
     "execution_count": 22,
     "metadata": {},
     "output_type": "execute_result"
    }
   ],
   "source": [
    "# realty rubrics:\n",
    "df_realty_rubrics[[\"id\", \"name\", \"slug\", \"path\"]]"
   ]
  },
  {
   "cell_type": "code",
   "execution_count": 31,
   "id": "c50b6094",
   "metadata": {},
   "outputs": [],
   "source": [
    "# get rubric features. Key: (rubric_id + feature_name)\n",
    "df_realty_rubric_features = pd.DataFrame()\n",
    "for i, row in df_realty_rubrics.iterrows():\n",
    "    df_i = pd.DataFrame([RubricFeatureSchema.load(i) for i in row.rubric_features]).assign(\n",
    "        rubric_id = row.id\n",
    "    )\n",
    "    df_realty_rubric_features = pd.concat(\n",
    "        (df_realty_rubric_features, df_i),\n",
    "        axis=0, ignore_index=True\n",
    "    )"
   ]
  },
  {
   "cell_type": "code",
   "execution_count": 32,
   "id": "c6a17af5",
   "metadata": {},
   "outputs": [],
   "source": [
    "# process feature choises:\n",
    "df_realty_rubric_features.feature_choices = (\n",
    "    df_realty_rubric_features.feature_choices.apply(\n",
    "        lambda x: {i[\"key\"]: i[\"value\"] for i in x}\n",
    "    )\n",
    ")"
   ]
  },
  {
   "cell_type": "code",
   "execution_count": 35,
   "id": "8afda682",
   "metadata": {},
   "outputs": [
    {
     "data": {
      "text/html": [
       "<div>\n",
       "<style scoped>\n",
       "    .dataframe tbody tr th:only-of-type {\n",
       "        vertical-align: middle;\n",
       "    }\n",
       "\n",
       "    .dataframe tbody tr th {\n",
       "        vertical-align: top;\n",
       "    }\n",
       "\n",
       "    .dataframe thead th {\n",
       "        text-align: right;\n",
       "    }\n",
       "</style>\n",
       "<table border=\"1\" class=\"dataframe\">\n",
       "  <thead>\n",
       "    <tr style=\"text-align: right;\">\n",
       "      <th></th>\n",
       "      <th>feature_name</th>\n",
       "      <th>feature_verbose_name</th>\n",
       "      <th>feature_type</th>\n",
       "      <th>feature_type_id</th>\n",
       "      <th>feature_choices</th>\n",
       "      <th>filter_feature</th>\n",
       "      <th>required</th>\n",
       "      <th>measure_unit</th>\n",
       "      <th>rubric_id</th>\n",
       "    </tr>\n",
       "  </thead>\n",
       "  <tbody>\n",
       "    <tr>\n",
       "      <th>90</th>\n",
       "      <td>attrs__type</td>\n",
       "      <td>Type</td>\n",
       "      <td>String choices</td>\n",
       "      <td>3</td>\n",
       "      <td>{'5': 'Apartment', '8': 'Penthouse'}</td>\n",
       "      <td>True</td>\n",
       "      <td>True</td>\n",
       "      <td>None</td>\n",
       "      <td>3529</td>\n",
       "    </tr>\n",
       "    <tr>\n",
       "      <th>91</th>\n",
       "      <td>attrs__number-of-bedrooms</td>\n",
       "      <td>Bedrooms</td>\n",
       "      <td>String choices</td>\n",
       "      <td>3</td>\n",
       "      <td>{'0': 'Studio', '1': '1', '2': '2', '3': '3', ...</td>\n",
       "      <td>True</td>\n",
       "      <td>True</td>\n",
       "      <td>None</td>\n",
       "      <td>3529</td>\n",
       "    </tr>\n",
       "    <tr>\n",
       "      <th>92</th>\n",
       "      <td>attrs__number-of-bathrooms</td>\n",
       "      <td>Bathrooms</td>\n",
       "      <td>Integer choices</td>\n",
       "      <td>4</td>\n",
       "      <td>{'1': '1', '2': '2', '3': '3', '4': '4', '5': ...</td>\n",
       "      <td>False</td>\n",
       "      <td>False</td>\n",
       "      <td>None</td>\n",
       "      <td>3529</td>\n",
       "    </tr>\n",
       "    <tr>\n",
       "      <th>93</th>\n",
       "      <td>attrs__area</td>\n",
       "      <td>Property area</td>\n",
       "      <td>Integer</td>\n",
       "      <td>0</td>\n",
       "      <td>{}</td>\n",
       "      <td>True</td>\n",
       "      <td>True</td>\n",
       "      <td>m²</td>\n",
       "      <td>3529</td>\n",
       "    </tr>\n",
       "    <tr>\n",
       "      <th>94</th>\n",
       "      <td>attrs__floor</td>\n",
       "      <td>Floor</td>\n",
       "      <td>Integer choices</td>\n",
       "      <td>4</td>\n",
       "      <td>{'10': 'Ground floor', '20': '1st', '30': '2nd...</td>\n",
       "      <td>False</td>\n",
       "      <td>False</td>\n",
       "      <td>None</td>\n",
       "      <td>3529</td>\n",
       "    </tr>\n",
       "  </tbody>\n",
       "</table>\n",
       "</div>"
      ],
      "text/plain": [
       "                  feature_name feature_verbose_name     feature_type  \\\n",
       "90                 attrs__type                 Type   String choices   \n",
       "91   attrs__number-of-bedrooms             Bedrooms   String choices   \n",
       "92  attrs__number-of-bathrooms            Bathrooms  Integer choices   \n",
       "93                 attrs__area        Property area          Integer   \n",
       "94                attrs__floor                Floor  Integer choices   \n",
       "\n",
       "    feature_type_id                                    feature_choices  \\\n",
       "90                3               {'5': 'Apartment', '8': 'Penthouse'}   \n",
       "91                3  {'0': 'Studio', '1': '1', '2': '2', '3': '3', ...   \n",
       "92                4  {'1': '1', '2': '2', '3': '3', '4': '4', '5': ...   \n",
       "93                0                                                 {}   \n",
       "94                4  {'10': 'Ground floor', '20': '1st', '30': '2nd...   \n",
       "\n",
       "    filter_feature  required measure_unit  rubric_id  \n",
       "90            True      True         None       3529  \n",
       "91            True      True         None       3529  \n",
       "92           False     False         None       3529  \n",
       "93            True      True           m²       3529  \n",
       "94           False     False         None       3529  "
      ]
     },
     "execution_count": 35,
     "metadata": {},
     "output_type": "execute_result"
    }
   ],
   "source": [
    "df_realty_rubric_features[\n",
    "    df_realty_rubric_features.rubric_id == 3529\n",
    "].head()"
   ]
  },
  {
   "cell_type": "markdown",
   "id": "ac43ea84",
   "metadata": {},
   "source": [
    "## Parse Ads"
   ]
  },
  {
   "cell_type": "code",
   "execution_count": 5,
   "id": "97efe782",
   "metadata": {},
   "outputs": [],
   "source": [
    "# load rubrics & features alreay processed:\n",
    "df_realty_rubrics = pd.read_parquet(\"../data/processed/realty_rubrics.parquet\")"
   ]
  },
  {
   "cell_type": "markdown",
   "id": "9d7e42ba",
   "metadata": {},
   "source": [
    "Expected new DataFrames:\n",
    "- df_ads\n",
    "- df_users\n",
    "- df_images\n",
    "- df_attributes - TODO!\n",
    "- df_image_to_ad"
   ]
  },
  {
   "cell_type": "code",
   "execution_count": 31,
   "id": "124d2d49",
   "metadata": {
    "scrolled": true
   },
   "outputs": [
    {
     "name": "stdout",
     "output_type": "stream",
     "text": [
      "CPU times: user 275 ms, sys: 51.1 ms, total: 326 ms\n",
      "Wall time: 267 ms\n"
     ]
    }
   ],
   "source": [
    "%%time\n",
    "\n",
    "# Load all ads:\n",
    "df_ads = pd.DataFrame()\n",
    "for rubric_id in df_realty_rubrics.id.unique():\n",
    "    path_i = Path(f\"../data/raw/ads-full/rubric_{rubric_id}.parquet\")\n",
    "    if path_i.exists():\n",
    "        df_i = pd.read_parquet(path_i)\n",
    "        df_ads = pd.concat((df_ads, df_i), ignore_index=True, axis=0)"
   ]
  },
  {
   "cell_type": "markdown",
   "id": "5cb9cf60",
   "metadata": {},
   "source": [
    "- Parse users"
   ]
  },
  {
   "cell_type": "code",
   "execution_count": 33,
   "id": "f8a86ef4",
   "metadata": {
    "scrolled": true
   },
   "outputs": [
    {
     "name": "stdout",
     "output_type": "stream",
     "text": [
      "CPU times: user 1.56 s, sys: 12.7 ms, total: 1.57 s\n",
      "Wall time: 1.58 s\n"
     ]
    }
   ],
   "source": [
    "%%time\n",
    "\n",
    "user_list = df_ads.user \\\n",
    ".apply(lambda x: UserSchema.load(x)) \\\n",
    ".drop_duplicates() \\\n",
    ".to_list()\n",
    "\n",
    "df_users = pd.DataFrame(user_list)"
   ]
  },
  {
   "cell_type": "code",
   "execution_count": 34,
   "id": "9da12887",
   "metadata": {},
   "outputs": [],
   "source": [
    "# process users:\n",
    "df_users = df_users.rename({\n",
    "    \"id\": \"user_id\",\n",
    "    \"joined\": \"registration_date\",\n",
    "}, axis=1)\n",
    "\n",
    "df_users[\"registration_date\"] = pd.to_datetime(df_users[\"registration_date\"])"
   ]
  },
  {
   "cell_type": "markdown",
   "id": "d8aa6339",
   "metadata": {},
   "source": [
    "- Parse Images"
   ]
  },
  {
   "cell_type": "code",
   "execution_count": 35,
   "id": "4828274c",
   "metadata": {},
   "outputs": [
    {
     "name": "stderr",
     "output_type": "stream",
     "text": [
      "<timed exec>:3: FutureWarning: The default dtype for empty Series will be 'object' instead of 'float64' in a future version. Specify a dtype explicitly to silence this warning.\n"
     ]
    },
    {
     "name": "stdout",
     "output_type": "stream",
     "text": [
      "CPU times: user 2.98 s, sys: 48.9 ms, total: 3.03 s\n",
      "Wall time: 3.05 s\n"
     ]
    }
   ],
   "source": [
    "%%time\n",
    "\n",
    "image_list = df_ads.images \\\n",
    ".apply(lambda x: [ImageSchema.load(i) for i in x]) \\\n",
    ".apply(pd.Series) \\\n",
    ".stack() \\\n",
    ".to_list()\n",
    "\n",
    "df_images = pd.DataFrame(image_list) \\\n",
    ".drop_duplicates() \\\n",
    ".reset_index(drop=True)\n",
    "\n",
    "df_images = df_images.rename({\n",
    "    \"id\": \"image_id\",\n",
    "    \"url\": \"compressed_url\",\n",
    "    \"orig\": \"origiral_url\",\n",
    "}, axis=1)"
   ]
  },
  {
   "cell_type": "markdown",
   "id": "2e75e2b2",
   "metadata": {},
   "source": [
    "- Image-to-Ad mapping"
   ]
  },
  {
   "cell_type": "code",
   "execution_count": 37,
   "id": "48034b3f",
   "metadata": {},
   "outputs": [
    {
     "name": "stderr",
     "output_type": "stream",
     "text": [
      "<timed exec>:6: FutureWarning: The default dtype for empty Series will be 'object' instead of 'float64' in a future version. Specify a dtype explicitly to silence this warning.\n"
     ]
    },
    {
     "name": "stdout",
     "output_type": "stream",
     "text": [
      "CPU times: user 1.33 s, sys: 24.4 ms, total: 1.35 s\n",
      "Wall time: 1.35 s\n"
     ]
    }
   ],
   "source": [
    "%%time\n",
    "\n",
    "image_to_ad_list = df_ads \\\n",
    ".apply(\n",
    "    lambda x: [[i[\"id\"], x[\"id\"]] for i in x.images],\n",
    "    axis=1\n",
    ") \\\n",
    ".apply(pd.Series) \\\n",
    ".stack() \\\n",
    ".to_list()\n",
    "\n",
    "\n",
    "df_image_to_ad = pd.DataFrame(\n",
    "    image_to_ad_list,\n",
    "    columns=[\"image_id\", \"advertisement_id\"]\n",
    ")"
   ]
  },
  {
   "cell_type": "markdown",
   "id": "2cc85aca",
   "metadata": {},
   "source": [
    "- Attributes\n",
    "\n",
    "TODO: ..."
   ]
  },
  {
   "cell_type": "markdown",
   "id": "e41e8400",
   "metadata": {},
   "source": [
    "- Clean Ads"
   ]
  },
  {
   "cell_type": "code",
   "execution_count": 38,
   "id": "f6505330",
   "metadata": {},
   "outputs": [],
   "source": [
    "# rename some columns\n",
    "df_ads = df_ads.rename({\n",
    "    \"id\": \"advertisement_id\",\n",
    "    \"rubric\": \"rubric_id\",\n",
    "    \"city\": \"city_id\"\n",
    "}, axis=1)\n",
    "\n",
    "# add user_id link:\n",
    "df_ads[\"user_id\"] = df_ads.user.apply(lambda x: x.get(\"id\"))\n",
    "\n",
    "# parse district_id\n",
    "df_ads[\"district_id\"] = df_ads.city_districts.apply(\n",
    "    lambda x: x[0] if len(x) > 0 else None\n",
    ")\n",
    "\n",
    "# drop unused columns:\n",
    "df_ads.drop([\"city_districts\", \"user\", \"images\", \"attrs\"], axis=1, inplace=True)"
   ]
  },
  {
   "cell_type": "markdown",
   "id": "a06d7495",
   "metadata": {},
   "source": [
    "<hr>"
   ]
  },
  {
   "cell_type": "code",
   "execution_count": 25,
   "id": "2c32dd82",
   "metadata": {},
   "outputs": [],
   "source": [
    "# final artefacts:\n",
    "df_users; df_images; df_ads; df_image_to_ad;"
   ]
  },
  {
   "cell_type": "code",
   "execution_count": 26,
   "id": "000e3b8e",
   "metadata": {
    "scrolled": true
   },
   "outputs": [
    {
     "name": "stdout",
     "output_type": "stream",
     "text": [
      "Users: (3213, 7)\n",
      "Images: (148122, 4)\n",
      "Ads: (19748, 40)\n",
      "df_image_to_ad: (148122, 2)\n"
     ]
    }
   ],
   "source": [
    "print(\"Users:\", df_users.shape)\n",
    "print(\"Images:\", df_images.shape)\n",
    "print(\"Ads:\", df_ads.shape)\n",
    "print(\"df_image_to_ad:\", df_image_to_ad.shape)"
   ]
  },
  {
   "cell_type": "markdown",
   "id": "bfa5265c",
   "metadata": {},
   "source": [
    "## Cities & Districts"
   ]
  },
  {
   "cell_type": "code",
   "execution_count": 13,
   "id": "cac3833f",
   "metadata": {},
   "outputs": [
    {
     "data": {
      "text/html": [
       "<div>\n",
       "<style scoped>\n",
       "    .dataframe tbody tr th:only-of-type {\n",
       "        vertical-align: middle;\n",
       "    }\n",
       "\n",
       "    .dataframe tbody tr th {\n",
       "        vertical-align: top;\n",
       "    }\n",
       "\n",
       "    .dataframe thead th {\n",
       "        text-align: right;\n",
       "    }\n",
       "</style>\n",
       "<table border=\"1\" class=\"dataframe\">\n",
       "  <thead>\n",
       "    <tr style=\"text-align: right;\">\n",
       "      <th></th>\n",
       "      <th>name</th>\n",
       "      <th>city_id</th>\n",
       "      <th>slug</th>\n",
       "      <th>coordinates</th>\n",
       "    </tr>\n",
       "  </thead>\n",
       "  <tbody>\n",
       "    <tr>\n",
       "      <th>0</th>\n",
       "      <td>Famagusta</td>\n",
       "      <td>8</td>\n",
       "      <td>ammochostos-district</td>\n",
       "      <td>{'latitude': 35.032496, 'longitude': 33.903682}</td>\n",
       "    </tr>\n",
       "    <tr>\n",
       "      <th>1</th>\n",
       "      <td>Nicosia</td>\n",
       "      <td>11</td>\n",
       "      <td>lefkosia-district-nicosia</td>\n",
       "      <td>{'latitude': 35.183955, 'longitude': 33.377947}</td>\n",
       "    </tr>\n",
       "    <tr>\n",
       "      <th>2</th>\n",
       "      <td>Limassol</td>\n",
       "      <td>12</td>\n",
       "      <td>lemesos-district-limassol</td>\n",
       "      <td>{'latitude': 34.706962, 'longitude': 33.022328}</td>\n",
       "    </tr>\n",
       "    <tr>\n",
       "      <th>3</th>\n",
       "      <td>Larnaca</td>\n",
       "      <td>10</td>\n",
       "      <td>larnaka-district-larnaca</td>\n",
       "      <td>{'latitude': 34.902932, 'longitude': 33.626676}</td>\n",
       "    </tr>\n",
       "    <tr>\n",
       "      <th>4</th>\n",
       "      <td>Paphos</td>\n",
       "      <td>13</td>\n",
       "      <td>pafos-district-paphos</td>\n",
       "      <td>{'latitude': 34.773899, 'longitude': 32.430527}</td>\n",
       "    </tr>\n",
       "  </tbody>\n",
       "</table>\n",
       "</div>"
      ],
      "text/plain": [
       "        name  city_id                       slug  \\\n",
       "0  Famagusta        8       ammochostos-district   \n",
       "1    Nicosia       11  lefkosia-district-nicosia   \n",
       "2   Limassol       12  lemesos-district-limassol   \n",
       "3    Larnaca       10   larnaka-district-larnaca   \n",
       "4     Paphos       13      pafos-district-paphos   \n",
       "\n",
       "                                       coordinates  \n",
       "0  {'latitude': 35.032496, 'longitude': 33.903682}  \n",
       "1  {'latitude': 35.183955, 'longitude': 33.377947}  \n",
       "2  {'latitude': 34.706962, 'longitude': 33.022328}  \n",
       "3  {'latitude': 34.902932, 'longitude': 33.626676}  \n",
       "4  {'latitude': 34.773899, 'longitude': 32.430527}  "
      ]
     },
     "execution_count": 13,
     "metadata": {},
     "output_type": "execute_result"
    }
   ],
   "source": [
    "# cities\n",
    "df_cities = pd.read_parquet(\"../data/raw/cities.parquet\", engine=\"pyarrow\")\n",
    "df_cities.rename({\"id\": \"city_id\"}, axis=1, inplace=True)\n",
    "df_cities"
   ]
  },
  {
   "cell_type": "code",
   "execution_count": 12,
   "id": "75d59e04",
   "metadata": {},
   "outputs": [
    {
     "data": {
      "text/html": [
       "<div>\n",
       "<style scoped>\n",
       "    .dataframe tbody tr th:only-of-type {\n",
       "        vertical-align: middle;\n",
       "    }\n",
       "\n",
       "    .dataframe tbody tr th {\n",
       "        vertical-align: top;\n",
       "    }\n",
       "\n",
       "    .dataframe thead th {\n",
       "        text-align: right;\n",
       "    }\n",
       "</style>\n",
       "<table border=\"1\" class=\"dataframe\">\n",
       "  <thead>\n",
       "    <tr style=\"text-align: right;\">\n",
       "      <th></th>\n",
       "      <th>name</th>\n",
       "      <th>city_id</th>\n",
       "      <th>slug</th>\n",
       "      <th>post_codes</th>\n",
       "      <th>coordinates</th>\n",
       "      <th>city_id</th>\n",
       "    </tr>\n",
       "  </thead>\n",
       "  <tbody>\n",
       "    <tr>\n",
       "      <th>0</th>\n",
       "      <td>Achna</td>\n",
       "      <td>5756</td>\n",
       "      <td>achna</td>\n",
       "      <td>[5500]</td>\n",
       "      <td>{'latitude': 35.0388109, 'longitude': 33.7910458}</td>\n",
       "      <td>8</td>\n",
       "    </tr>\n",
       "    <tr>\n",
       "      <th>1</th>\n",
       "      <td>Agia Napa</td>\n",
       "      <td>5721</td>\n",
       "      <td>agia-napa</td>\n",
       "      <td>[8041]</td>\n",
       "      <td>{'latitude': 34.9856395, 'longitude': 33.9749189}</td>\n",
       "      <td>8</td>\n",
       "    </tr>\n",
       "    <tr>\n",
       "      <th>2</th>\n",
       "      <td>Agia Thekla</td>\n",
       "      <td>5722</td>\n",
       "      <td>agia-thekla</td>\n",
       "      <td>[5391]</td>\n",
       "      <td>{'latitude': 34.9790498, 'longitude': 33.9251563}</td>\n",
       "      <td>8</td>\n",
       "    </tr>\n",
       "    <tr>\n",
       "      <th>3</th>\n",
       "      <td>Agia Triada</td>\n",
       "      <td>5720</td>\n",
       "      <td>agia-triada</td>\n",
       "      <td>[]</td>\n",
       "      <td>{'latitude': 35.0501584, 'longitude': 34.0020218}</td>\n",
       "      <td>8</td>\n",
       "    </tr>\n",
       "    <tr>\n",
       "      <th>4</th>\n",
       "      <td>Agia Zoni</td>\n",
       "      <td>5760</td>\n",
       "      <td>agia-zoni</td>\n",
       "      <td>[]</td>\n",
       "      <td>{'latitude': 35.1082101, 'longitude': 33.949893}</td>\n",
       "      <td>8</td>\n",
       "    </tr>\n",
       "    <tr>\n",
       "      <th>...</th>\n",
       "      <td>...</td>\n",
       "      <td>...</td>\n",
       "      <td>...</td>\n",
       "      <td>...</td>\n",
       "      <td>...</td>\n",
       "      <td>...</td>\n",
       "    </tr>\n",
       "    <tr>\n",
       "      <th>631</th>\n",
       "      <td>Trimithousa</td>\n",
       "      <td>5158</td>\n",
       "      <td>trimithousa</td>\n",
       "      <td>[8813]</td>\n",
       "      <td>{'latitude': 34.975291, 'longitude': 32.487057}</td>\n",
       "      <td>13</td>\n",
       "    </tr>\n",
       "    <tr>\n",
       "      <th>632</th>\n",
       "      <td>Tsada</td>\n",
       "      <td>5081</td>\n",
       "      <td>tsada</td>\n",
       "      <td>[8540]</td>\n",
       "      <td>{'latitude': 34.84684, 'longitude': 32.459579}</td>\n",
       "      <td>13</td>\n",
       "    </tr>\n",
       "    <tr>\n",
       "      <th>633</th>\n",
       "      <td>Venus Rock Kouklia</td>\n",
       "      <td>5835</td>\n",
       "      <td>venus-rock-kouklia</td>\n",
       "      <td>[]</td>\n",
       "      <td>{'latitude': 34.6888, 'longitude': 32.5849}</td>\n",
       "      <td>13</td>\n",
       "    </tr>\n",
       "    <tr>\n",
       "      <th>634</th>\n",
       "      <td>Vretsia</td>\n",
       "      <td>5080</td>\n",
       "      <td>vretsia</td>\n",
       "      <td>[8644]</td>\n",
       "      <td>{'latitude': 34.88345, 'longitude': 32.662498}</td>\n",
       "      <td>13</td>\n",
       "    </tr>\n",
       "    <tr>\n",
       "      <th>635</th>\n",
       "      <td>Zacharia</td>\n",
       "      <td>5120</td>\n",
       "      <td>zacharia</td>\n",
       "      <td>[8806]</td>\n",
       "      <td>{'latitude': 34.981701, 'longitude': 32.5653}</td>\n",
       "      <td>13</td>\n",
       "    </tr>\n",
       "  </tbody>\n",
       "</table>\n",
       "<p>636 rows × 6 columns</p>\n",
       "</div>"
      ],
      "text/plain": [
       "                   name  city_id                slug post_codes  \\\n",
       "0                 Achna     5756               achna     [5500]   \n",
       "1             Agia Napa     5721           agia-napa     [8041]   \n",
       "2           Agia Thekla     5722         agia-thekla     [5391]   \n",
       "3           Agia Triada     5720         agia-triada         []   \n",
       "4             Agia Zoni     5760           agia-zoni         []   \n",
       "..                  ...      ...                 ...        ...   \n",
       "631         Trimithousa     5158         trimithousa     [8813]   \n",
       "632               Tsada     5081               tsada     [8540]   \n",
       "633  Venus Rock Kouklia     5835  venus-rock-kouklia         []   \n",
       "634             Vretsia     5080             vretsia     [8644]   \n",
       "635            Zacharia     5120            zacharia     [8806]   \n",
       "\n",
       "                                           coordinates  city_id  \n",
       "0    {'latitude': 35.0388109, 'longitude': 33.7910458}        8  \n",
       "1    {'latitude': 34.9856395, 'longitude': 33.9749189}        8  \n",
       "2    {'latitude': 34.9790498, 'longitude': 33.9251563}        8  \n",
       "3    {'latitude': 35.0501584, 'longitude': 34.0020218}        8  \n",
       "4     {'latitude': 35.1082101, 'longitude': 33.949893}        8  \n",
       "..                                                 ...      ...  \n",
       "631    {'latitude': 34.975291, 'longitude': 32.487057}       13  \n",
       "632     {'latitude': 34.84684, 'longitude': 32.459579}       13  \n",
       "633        {'latitude': 34.6888, 'longitude': 32.5849}       13  \n",
       "634     {'latitude': 34.88345, 'longitude': 32.662498}       13  \n",
       "635      {'latitude': 34.981701, 'longitude': 32.5653}       13  \n",
       "\n",
       "[636 rows x 6 columns]"
      ]
     },
     "execution_count": 12,
     "metadata": {},
     "output_type": "execute_result"
    }
   ],
   "source": [
    "# districts\n",
    "df_districts = pd.read_parquet(\"../data/raw/districts.parquet\", engine=\"pyarrow\")\n",
    "df_districts[\"city_id\"] = df_districts.city.apply(lambda x: x.get(\"id\")).astype(int)\n",
    "df_districts.rename({\"id\": \"city_id\"}, axis=1, inplace=True)\n",
    "df_districts.drop(\"city\", axis=1, inplace=True)\n",
    "df_districts"
   ]
  },
  {
   "cell_type": "markdown",
   "id": "45bdcd84",
   "metadata": {},
   "source": [
    "## Parse ads features"
   ]
  },
  {
   "cell_type": "code",
   "execution_count": 152,
   "id": "39809f22",
   "metadata": {},
   "outputs": [],
   "source": [
    "def process_attribute_column(\n",
    "    series: pd.Series,\n",
    "    col_name: str,\n",
    "    rubric_features_dict: Dict,\n",
    ") -> pd.Series:\n",
    "    \"\"\"Process features based on bazaraki Enums\"\"\"\n",
    "    if col_name not in rubric_features_dict.index:\n",
    "        return series\n",
    "        \n",
    "    if rubric_features_dict.loc[col_name].feature_type in (\"Integer\", \"String\"):\n",
    "        return series\n",
    "    \n",
    "    if rubric_features_dict.loc[col_name].feature_type in (\"Integer choices\", \"String choices\"):\n",
    "        return series.apply(lambda x: rubric_features_dict.loc[col_name].feature_choices.get(str(x)))\n",
    "    \n",
    "    else:\n",
    "        # TODO Implementation...\n",
    "        return series\n",
    "        raise NotImplementedError(\n",
    "            f\"Not implemented parsing for column type: {rubric_features_dict.loc[col_name].feature_type}\"\n",
    "        )"
   ]
  },
  {
   "cell_type": "code",
   "execution_count": 153,
   "id": "f48986bf",
   "metadata": {},
   "outputs": [],
   "source": [
    "DATA_DIR = Path(\"../../airflow/data\")"
   ]
  },
  {
   "cell_type": "code",
   "execution_count": 154,
   "id": "bb99b55a",
   "metadata": {},
   "outputs": [],
   "source": [
    "df_rubrics = pd.read_parquet(Path(DATA_DIR, \"processed/rubrics.parquet\"))\n",
    "df_rubric_features = pd.read_parquet(Path(DATA_DIR, \"processed/rubric_features.parquet\"))"
   ]
  },
  {
   "cell_type": "code",
   "execution_count": 232,
   "id": "1dbdcfdc",
   "metadata": {},
   "outputs": [
    {
     "data": {
      "text/plain": [
       "array([ 678, 3528, 2405,  141, 2790, 3303,  142,  681, 3529, 2408, 3530,\n",
       "       2191,  434, 3531])"
      ]
     },
     "execution_count": 232,
     "metadata": {},
     "output_type": "execute_result"
    }
   ],
   "source": [
    "df_rubrics[\"id\"].values"
   ]
  },
  {
   "cell_type": "code",
   "execution_count": 201,
   "id": "4edac1ca",
   "metadata": {},
   "outputs": [],
   "source": [
    "rubric_id = 142"
   ]
  },
  {
   "cell_type": "code",
   "execution_count": 213,
   "id": "90de25ca",
   "metadata": {},
   "outputs": [],
   "source": [
    "_"
   ]
  },
  {
   "cell_type": "code",
   "execution_count": 216,
   "id": "36d00860",
   "metadata": {},
   "outputs": [],
   "source": [
    "with open(f\"../../airflow/data/raw/ads-incremental/{rubric_id}/page_1.json\", \"r\") as input_stream:\n",
    "    ads = json.load(input_stream)"
   ]
  },
  {
   "cell_type": "code",
   "execution_count": 230,
   "id": "509376cd",
   "metadata": {},
   "outputs": [],
   "source": [
    "# load attributes\n",
    "attributes = {i[\"id\"]: i[\"attrs\"] for i in ads[\"results\"]}"
   ]
  },
  {
   "cell_type": "code",
   "execution_count": 207,
   "id": "e878b2fd",
   "metadata": {},
   "outputs": [],
   "source": [
    "# proprocessing:\n",
    "df_attributes = pd.DataFrame(attributes).T\n",
    "\n",
    "for col_name in df_attributes.columns:\n",
    "    \n",
    "    df_attributes[col_name] = process_attribute_column(\n",
    "        series=df_attributes[col_name],\n",
    "        col_name=col_name,\n",
    "        rubric_features_dict=rubric_features_dict,\n",
    "    )\n",
    "    \n",
    "    df_attributes.rename(\n",
    "        {col_name: col_name.replace(\"attrs__\", \"\").replace(\"-\", \"_\")},\n",
    "        axis=1,\n",
    "        inplace=True\n",
    "    )\n",
    "    \n",
    "    \n",
    "# final processing:\n",
    "df_attributes.reset_index(names=[\"advertisement_id\"], inplace=True)\n",
    "df_attributes[\"rubric_id\"] = rubric_id"
   ]
  }
 ],
 "metadata": {
  "kernelspec": {
   "display_name": "Python 3 (ipykernel)",
   "language": "python",
   "name": "python3"
  },
  "language_info": {
   "codemirror_mode": {
    "name": "ipython",
    "version": 3
   },
   "file_extension": ".py",
   "mimetype": "text/x-python",
   "name": "python",
   "nbconvert_exporter": "python",
   "pygments_lexer": "ipython3",
   "version": "3.11.2"
  }
 },
 "nbformat": 4,
 "nbformat_minor": 5
}
